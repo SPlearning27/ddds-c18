{
  "cells": [
    {
      "cell_type": "markdown",
      "metadata": {
        "id": "view-in-github",
        "colab_type": "text"
      },
      "source": [
        "<a href=\"https://colab.research.google.com/github/SPlearning27/ddds-c18/blob/main/about_me.ipynb\" target=\"_parent\"><img src=\"https://colab.research.google.com/assets/colab-badge.svg\" alt=\"Open In Colab\"/></a>"
      ]
    },
    {
      "cell_type": "markdown",
      "metadata": {
        "id": "OLBDcqWvkXl3"
      },
      "source": [
        "## About Me Page\n"
      ]
    },
    {
      "cell_type": "markdown",
      "source": [
        "**Suttinee Poolsup** (you can call me \"Sut, like a suit, -ti -nee\")\n",
        "- Why this data science bootcamp?\n",
        "  \n",
        "  \"To upskill my data journey, I would to combine my background in bioanalytical research with data analysis. In particular, I can analyze big data in clinical research to explore science-based medical treatment for chronic diseases.\"\n",
        "\n",
        "- If you had your human body, but the head of an animal, what animal would you pick?\n",
        "\n",
        "  \"Koala Bear\"\n",
        "\n",
        "![media.gettyimages](https://media.gettyimages.com/id/1272720890/photo/nsw-works-to-save-the-koala-as-bushfires-habitat-loss-and-disease-threaten-future-of.jpg?b=1&s=594x594&w=0&k=20&c=ozkiSSVl3KT-MiWDL2K0hlVSoLUlfkNA21RnIykJMjE=)\n",
        "\n",
        "- Three smartphone Apps I'd like to keep:\n",
        " *LINE*, *YouTube* and *Google*\n",
        "\n",
        "- My favorite podcasts: *The Diary Of A CEO and Huberman Lab*\n",
        "- My favorite sport: *Basketball is the sport I enjoy the most because it is very fun for me to play with team*\n",
        "*Hobbies: Baking, sewing and crafting with cotton fabric\n",
        "\n",
        "- Activities I enjoy the most: *Hiking and exploring nature are my energy charger.*\n"
      ],
      "metadata": {
        "id": "fkcyDJ43LX78"
      }
    },
    {
      "cell_type": "markdown",
      "metadata": {
        "id": "F__4rmBpkm6b"
      },
      "source": [
        "\n",
        "## Bonus\n"
      ]
    },
    {
      "cell_type": "markdown",
      "metadata": {
        "id": "dX40-hosklXz"
      },
      "source": [
        "\n",
        "BONUS: HTML magic!!\n",
        "\n",
        "Run `%lsmagic` in a code cell to list both line and cell magics."
      ]
    },
    {
      "cell_type": "code",
      "source": [],
      "metadata": {
        "id": "WvJdiXYsMeap"
      },
      "execution_count": null,
      "outputs": []
    }
  ],
  "metadata": {
    "colab": {
      "provenance": [],
      "include_colab_link": true
    },
    "kernelspec": {
      "display_name": "Python 3 (ipykernel)",
      "language": "python",
      "name": "python3"
    },
    "language_info": {
      "codemirror_mode": {
        "name": "ipython",
        "version": 3
      },
      "file_extension": ".py",
      "mimetype": "text/x-python",
      "name": "python",
      "nbconvert_exporter": "python",
      "pygments_lexer": "ipython3",
      "version": "3.12.3"
    }
  },
  "nbformat": 4,
  "nbformat_minor": 0
}